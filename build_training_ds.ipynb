{
 "cells": [
  {
   "cell_type": "code",
   "execution_count": 4,
   "metadata": {},
   "outputs": [],
   "source": [
    "import polars as pl"
   ]
  },
  {
   "cell_type": "code",
   "execution_count": 11,
   "metadata": {},
   "outputs": [],
   "source": [
    "post_file = 'data/monerosupport_submissions'\n",
    "comments_file = 'data/monerosupport_comments'"
   ]
  },
  {
   "cell_type": "code",
   "execution_count": 18,
   "metadata": {},
   "outputs": [],
   "source": [
    "p_df = pl.scan_ndjson(\n",
    "    post_file\n",
    ").select(\n",
    "    pl.col(['id', 'url', 'num_comments', 'subreddit', 'title', 'selftext', 'score'])\n",
    ").filter(\n",
    "    (pl.col(\"score\") > 0) &\n",
    "    (pl.col('selftext') != '[deleted]') &\n",
    "    (pl.col('selftext') != '[removed]') &\n",
    "    (pl.col('selftext').str.n_chars() > 10)\n",
    ")"
   ]
  },
  {
   "cell_type": "code",
   "execution_count": 33,
   "metadata": {},
   "outputs": [
    {
     "data": {
      "text/html": [
       "<div><style>\n",
       ".dataframe > thead > tr > th,\n",
       ".dataframe > tbody > tr > td {\n",
       "  text-align: right;\n",
       "}\n",
       "</style>\n",
       "<small>shape: (4_540, 7)</small><table border=\"1\" class=\"dataframe\"><thead><tr><th>id</th><th>url</th><th>num_comments</th><th>subreddit</th><th>title</th><th>selftext</th><th>score</th></tr><tr><td>str</td><td>str</td><td>i64</td><td>str</td><td>str</td><td>str</td><td>i64</td></tr></thead><tbody><tr><td>&quot;6lyur0&quot;</td><td>&quot;https://www.re…</td><td>0</td><td>&quot;monerosupport&quot;</td><td>&quot;Monero Bounty …</td><td>&quot;The links hack…</td><td>1</td></tr><tr><td>&quot;6owsgj&quot;</td><td>&quot;https://www.re…</td><td>2</td><td>&quot;monerosupport&quot;</td><td>&quot;[QUESTION] Can…</td><td>&quot;I transferred …</td><td>1</td></tr><tr><td>&quot;6wfbf4&quot;</td><td>&quot;https://www.re…</td><td>3</td><td>&quot;monerosupport&quot;</td><td>&quot;payment comple…</td><td>&quot;Hi, sorry for …</td><td>2</td></tr><tr><td>&quot;6wk0hq&quot;</td><td>&quot;https://www.re…</td><td>5</td><td>&quot;monerosupport&quot;</td><td>&quot;[QUESTION] Str…</td><td>&quot;I generated a …</td><td>2</td></tr><tr><td>&quot;6wr31k&quot;</td><td>&quot;https://www.re…</td><td>3</td><td>&quot;monerosupport&quot;</td><td>&quot;Monero GUI - E…</td><td>&quot;Searching arou…</td><td>3</td></tr><tr><td>&quot;6y36ie&quot;</td><td>&quot;https://www.re…</td><td>1</td><td>&quot;monerosupport&quot;</td><td>&quot;Never recieved…</td><td>&quot;I used changer…</td><td>1</td></tr><tr><td>&quot;6ymb9v&quot;</td><td>&quot;https://www.re…</td><td>0</td><td>&quot;monerosupport&quot;</td><td>&quot;re-download bl…</td><td>&quot;So i&#x27;ve just g…</td><td>3</td></tr><tr><td>&quot;6yuh0l&quot;</td><td>&quot;https://www.re…</td><td>2</td><td>&quot;monerosupport&quot;</td><td>&quot;How do I expor…</td><td>&quot;I&#x27;m having tro…</td><td>3</td></tr><tr><td>&quot;6yvlpz&quot;</td><td>&quot;https://www.re…</td><td>4</td><td>&quot;monerosupport&quot;</td><td>&quot;Running a node…</td><td>&quot;Hi, I`m planni…</td><td>5</td></tr><tr><td>&quot;6z2nc1&quot;</td><td>&quot;https://www.re…</td><td>4</td><td>&quot;monerosupport&quot;</td><td>&quot;Differing Hash…</td><td>&quot;I&#x27;m very new t…</td><td>1</td></tr><tr><td>&quot;70nsud&quot;</td><td>&quot;https://www.re…</td><td>2</td><td>&quot;monerosupport&quot;</td><td>&quot;First time min…</td><td>&quot;Im going to st…</td><td>1</td></tr><tr><td>&quot;70q9cj&quot;</td><td>&quot;https://www.re…</td><td>1</td><td>&quot;monerosupport&quot;</td><td>&quot;Destination ad…</td><td>&quot;I am using Tor…</td><td>1</td></tr><tr><td>&hellip;</td><td>&hellip;</td><td>&hellip;</td><td>&hellip;</td><td>&hellip;</td><td>&hellip;</td><td>&hellip;</td></tr><tr><td>&quot;zvofiq&quot;</td><td>&quot;https://www.re…</td><td>37</td><td>&quot;monerosupport&quot;</td><td>&quot;Monero GUI bug…</td><td>&quot;A strange thin…</td><td>6</td></tr><tr><td>&quot;zvrwsh&quot;</td><td>&quot;https://www.re…</td><td>2</td><td>&quot;monerosupport&quot;</td><td>&quot;Help!&quot;</td><td>&quot;I have been tr…</td><td>2</td></tr><tr><td>&quot;zwiklm&quot;</td><td>&quot;https://www.re…</td><td>3</td><td>&quot;monerosupport&quot;</td><td>&quot;Monero wallet …</td><td>&quot;Hi Guys,\n",
       "\n",
       "I am…</td><td>4</td></tr><tr><td>&quot;zwpu0y&quot;</td><td>&quot;https://www.re…</td><td>4</td><td>&quot;monerosupport&quot;</td><td>&quot;Cake Wallet st…</td><td>&quot;Android phone …</td><td>4</td></tr><tr><td>&quot;zwqn10&quot;</td><td>&quot;https://www.re…</td><td>10</td><td>&quot;monerosupport&quot;</td><td>&quot;Full node behi…</td><td>&quot;Is there a way…</td><td>4</td></tr><tr><td>&quot;zyj90p&quot;</td><td>&quot;https://www.re…</td><td>6</td><td>&quot;monerosupport&quot;</td><td>&quot;How to reduce …</td><td>&quot;Suppose I am m…</td><td>2</td></tr><tr><td>&quot;zywvrz&quot;</td><td>&quot;https://www.re…</td><td>10</td><td>&quot;monerosupport&quot;</td><td>&quot;cannot transfe…</td><td>&quot;I use Monero c…</td><td>5</td></tr><tr><td>&quot;zyztme&quot;</td><td>&quot;https://www.re…</td><td>8</td><td>&quot;monerosupport&quot;</td><td>&quot;Which wallets …</td><td>&quot;Seems Coinomi …</td><td>4</td></tr><tr><td>&quot;zzi6uo&quot;</td><td>&quot;https://www.re…</td><td>6</td><td>&quot;monerosupport&quot;</td><td>&quot;Cake Wallet Ca…</td><td>&quot;I have a node …</td><td>2</td></tr><tr><td>&quot;zzqd0g&quot;</td><td>&quot;https://www.re…</td><td>3</td><td>&quot;monerosupport&quot;</td><td>&quot;monero sync de…</td><td>&quot;tried syncing …</td><td>2</td></tr><tr><td>&quot;10003ty&quot;</td><td>&quot;https://www.re…</td><td>20</td><td>&quot;monerosupport&quot;</td><td>&quot;iIhave ledger …</td><td>&quot;Can u please t…</td><td>2</td></tr><tr><td>&quot;1005cfj&quot;</td><td>&quot;https://www.re…</td><td>10</td><td>&quot;monerosupport&quot;</td><td>&quot;can u tell me …</td><td>&quot;Lost password.…</td><td>5</td></tr></tbody></table></div>"
      ],
      "text/plain": [
       "shape: (4_540, 7)\n",
       "┌─────────┬────────────────┬──────────────┬───────────────┬────────────────┬───────────────┬───────┐\n",
       "│ id      ┆ url            ┆ num_comments ┆ subreddit     ┆ title          ┆ selftext      ┆ score │\n",
       "│ ---     ┆ ---            ┆ ---          ┆ ---           ┆ ---            ┆ ---           ┆ ---   │\n",
       "│ str     ┆ str            ┆ i64          ┆ str           ┆ str            ┆ str           ┆ i64   │\n",
       "╞═════════╪════════════════╪══════════════╪═══════════════╪════════════════╪═══════════════╪═══════╡\n",
       "│ 6lyur0  ┆ https://www.re ┆ 0            ┆ monerosupport ┆ Monero Bounty  ┆ The links hac ┆ 1     │\n",
       "│         ┆ ddit.com/r/mon ┆              ┆               ┆ for Hacker One ┆ kerone.com/mo ┆       │\n",
       "│         ┆ eros…          ┆              ┆               ┆                ┆ nero a…       ┆       │\n",
       "│ 6owsgj  ┆ https://www.re ┆ 2            ┆ monerosupport ┆ [QUESTION]     ┆ I transferred ┆ 1     │\n",
       "│         ┆ ddit.com/r/mon ┆              ┆               ┆ Can't see my   ┆ coins about 2 ┆       │\n",
       "│         ┆ eros…          ┆              ┆               ┆ Monero c…      ┆ week…         ┆       │\n",
       "│ 6wfbf4  ┆ https://www.re ┆ 3            ┆ monerosupport ┆ payment        ┆ Hi, sorry for ┆ 2     │\n",
       "│         ┆ ddit.com/r/mon ┆              ┆               ┆ completed but  ┆ the complete  ┆       │\n",
       "│         ┆ eros…          ┆              ┆               ┆ red underl…    ┆ noob …        ┆       │\n",
       "│ 6wk0hq  ┆ https://www.re ┆ 5            ┆ monerosupport ┆ [QUESTION]     ┆ I generated a ┆ 2     │\n",
       "│         ┆ ddit.com/r/mon ┆              ┆               ┆ Strange issue  ┆ paper wallet  ┆       │\n",
       "│         ┆ eros…          ┆              ┆               ┆ with Pu…       ┆ on ht…        ┆       │\n",
       "│ …       ┆ …              ┆ …            ┆ …             ┆ …              ┆ …             ┆ …     │\n",
       "│ zzi6uo  ┆ https://www.re ┆ 6            ┆ monerosupport ┆ Cake Wallet    ┆ I have a node ┆ 2     │\n",
       "│         ┆ ddit.com/r/mon ┆              ┆               ┆ Cannot Connect ┆ running,      ┆       │\n",
       "│         ┆ eros…          ┆              ┆               ┆ with …         ┆ accessibl…    ┆       │\n",
       "│ zzqd0g  ┆ https://www.re ┆ 3            ┆ monerosupport ┆ monero sync    ┆ tried syncing ┆ 2     │\n",
       "│         ┆ ddit.com/r/mon ┆              ┆               ┆ delay          ┆ my wallet     ┆       │\n",
       "│         ┆ eros…          ┆              ┆               ┆                ┆ today an…     ┆       │\n",
       "│ 10003ty ┆ https://www.re ┆ 20           ┆ monerosupport ┆ iIhave ledger  ┆ Can u please  ┆ 2     │\n",
       "│         ┆ ddit.com/r/mon ┆              ┆               ┆ nano s, i      ┆ tell me how   ┆       │\n",
       "│         ┆ eros…          ┆              ┆               ┆ forgot m…      ┆ to open…      ┆       │\n",
       "│ 1005cfj ┆ https://www.re ┆ 10           ┆ monerosupport ┆ can u tell me  ┆ Lost          ┆ 5     │\n",
       "│         ┆ ddit.com/r/mon ┆              ┆               ┆ somethig. I    ┆ password.     ┆       │\n",
       "│         ┆ eros…          ┆              ┆               ┆ cant r…        ┆ what do i do  ┆       │\n",
       "└─────────┴────────────────┴──────────────┴───────────────┴────────────────┴───────────────┴───────┘"
      ]
     },
     "execution_count": 33,
     "metadata": {},
     "output_type": "execute_result"
    }
   ],
   "source": [
    "p_df.collect()"
   ]
  },
  {
   "cell_type": "code",
   "execution_count": 43,
   "metadata": {},
   "outputs": [],
   "source": [
    "c_df = pl.scan_ndjson(\n",
    "    comments_file\n",
    ").select(\n",
    "    pl.col(['parent_id', 'link_id', 'body', 'score', 'id', 'subreddit'])\n",
    ").filter((\n",
    "    (pl.col('parent_id') == pl.col('link_id')) &  # maybe need to confirm....\n",
    "    (pl.col('body') != '[deleted]') &\n",
    "    (pl.col('body') != '[removed]') &\n",
    "    (pl.col('score') > 1) \n",
    ")).sort(\n",
    "    ['link_id', 'score'], \n",
    "    descending=True\n",
    ").groupby(\"link_id\", maintain_order=True).agg([\n",
    "    pl.col('subreddit').first(),\n",
    "    pl.col('body').head(3),\n",
    "    pl.col('score').head(3),\n",
    "    pl.col('id').head(3),\n",
    "    pl.col('id').count().alias('comment_count'),    \n",
    "]).with_columns(\n",
    "    pl.col('link_id').str.slice(3).alias('link_id')\n",
    ")"
   ]
  },
  {
   "cell_type": "code",
   "execution_count": 44,
   "metadata": {},
   "outputs": [
    {
     "data": {
      "text/html": [
       "<div><style>\n",
       ".dataframe > thead > tr > th,\n",
       ".dataframe > tbody > tr > td {\n",
       "  text-align: right;\n",
       "}\n",
       "</style>\n",
       "<small>shape: (2_378, 6)</small><table border=\"1\" class=\"dataframe\"><thead><tr><th>link_id</th><th>subreddit</th><th>body</th><th>score</th><th>id</th><th>comment_count</th></tr><tr><td>str</td><td>str</td><td>list[str]</td><td>list[i64]</td><td>list[str]</td><td>u32</td></tr></thead><tbody><tr><td>&quot;zzqd0g&quot;</td><td>&quot;monerosupport&quot;</td><td>[&quot;When did you start synchronizing and how long did you expected it to take? Do you mean wallet synching or blockchain synching?\n",
       "\n",
       "ETA: Because both the daemon and wallet are contained in the Wallet GUI, it would be helpful to know if you truly are talking about the wallet synching.&quot;]</td><td>[2]</td><td>[&quot;j2dhhyn&quot;]</td><td>1</td></tr><tr><td>&quot;zyj90p&quot;</td><td>&quot;monerosupport&quot;</td><td>[&quot;It depends if you are going to spend part of the same outputs. Note that tracking transactions is still hard even though you would use the same outputs you just received but it still makes it easier to try because the outputs are so closely together so ring signature pool wouldn&#x27;t be that large if I have understood it correctly. Waiting an hour after getting your transactions is a good way to reduce traceability but you still can spend other outputs during that period without it endangering your privacy.\n",
       "\n",
       "Youtube is a good source to look for some explanations about Monero as well as the project&#x27;s own site.&quot;]</td><td>[2]</td><td>[&quot;j26cwj9&quot;]</td><td>1</td></tr><tr><td>&quot;zwqn10&quot;</td><td>&quot;monerosupport&quot;</td><td>[&quot;Does it allow you to edit and control your firewall?&quot;]</td><td>[2]</td><td>[&quot;j1xr3b5&quot;]</td><td>1</td></tr><tr><td>&quot;zvxt3p&quot;</td><td>&quot;monerosupport&quot;</td><td>[&quot;IRS and other government organisations know what is happenning on the CEX like binance and others. IRS will know that you&#x27;ve bought and withdrawn XMR and how much. If you want to safely store your XMR without them knowing when you&#x27;ve used them from cold storage, you better buy XMR and then use temporary wallet in between CEX and cold storage, so CEX wouldn&#x27;t know your wallet address. \n",
       "\n",
       "If you want gov to not know if you have XMR and how much, you&#x27;d either need to buy XMR using P2P platforms or buy BTC or other coin(LTC for example) and exchange it for XMR on some DEX.\n",
       "\n",
       "There are services, where you can buy prepaid debit cards with XMR.&quot;, &quot;Or....(and I&#x27;m NOT telling you to do something illegal)\n",
       "\n",
       "Buy USDC from a CEX then send it to a DEX. Once your USDC is on a DEX exchange it to XMR. Send your XMR to a cold storage.\n",
       "\n",
       "Also, look at HAVEN (XHV) and you may be able to do something through the Haven protocol.\n",
       "\n",
       "My thought is if you obtain USDC with fiat, then send the USDC to a private wallet, it&#x27;s got to be more difficult for the IRS to track it. Also, IMO, buying USDC is not buying what the IRS may refer to as a security (taxable). \n",
       "\n",
       "If that&#x27;s too much (yes, you may have to pay some fees for sending your crypto to more than one location)  then just explain to the IRS that you sent your USDC to &quot;somewhere&quot; you thought was the correct address...but it wasn&#x27;t so you lost it forever in the ether world!\n",
       "\n",
       "(That, or a boating accident!)\n",
       "\n",
       "\\*\\*\\*Truth be told, these crypto laws are so vague that even my H&amp;amp;R Block CPA wasn&#x27;t sure how, exactly, certain cryptos should be filed.&quot;]</td><td>[3, 2]</td><td>[&quot;j1sjpex&quot;, &quot;j1uikzg&quot;]</td><td>2</td></tr><tr><td>&quot;zvt9rl&quot;</td><td>&quot;monerosupport&quot;</td><td>[&quot;You&#x27;re doing something weird for it to take that long on fibet with SSD but to help I would need more information about what wallet you use, if you&#x27;re running a local or remote node, etc. Can you explain exactly what you&#x27;ve been doing? And maybe what your goal is?&quot;]</td><td>[3]</td><td>[&quot;j1ri29d&quot;]</td><td>1</td></tr><tr><td>&quot;zv29j1&quot;</td><td>&quot;monerosupport&quot;</td><td>[&quot;Did you use the Ledger Monero seed conversion tool by LedgerHQ?\n",
       "\n",
       "The 25 word seed is for Monero wallets. The original Ledger 24 word seed is for Ledger devices only but the device will generate your original Monero wallet from that seed, not from the 25 word seed.&quot;]</td><td>[2]</td><td>[&quot;j1mnsl7&quot;]</td><td>1</td></tr><tr><td>&quot;zubb0v&quot;</td><td>&quot;monerosupport&quot;</td><td>[&quot;What do you mean? If you can see that text, you have your GUI wallet open&quot;]</td><td>[2]</td><td>[&quot;j1i60go&quot;]</td><td>1</td></tr><tr><td>&quot;zu6stg&quot;</td><td>&quot;monerosupport&quot;</td><td>[&quot;At what step(s) did you actually lose money? Which exchanges are you using? Are you okay with KYC (generally lower fees)?\n",
       "\n",
       "Centralized Exchanges generally have the lostest fees on trading. Generally less than 0.5%. Then withdrawal fees is another thing to consider. A good exchanges&#x27;s withdrawal fee should be similar to XMR transfer fee with is negligible, a few cents.\n",
       "\n",
       "You should be able to convert USD to XMR for only a percent or two of fees on a CEX with bad trade and withdrawal fees. 5% or so max on DEXs with no KYC which generally have higher fee rates. Definetly way less than 30%.\n",
       "\n",
       "I can recommend Kraken for an exchange.&quot;, &quot;Localmonero.co&quot;]</td><td>[5, 2]</td><td>[&quot;j1he7lz&quot;, &quot;j1k3qbk&quot;]</td><td>2</td></tr><tr><td>&quot;ztyoce&quot;</td><td>&quot;monerosupport&quot;</td><td>[&quot;In the original wallet, can you try to switch the node?&quot;, &quot;do you see confirmation at kraken?&quot;]</td><td>[3, 2]</td><td>[&quot;j1h8a6f&quot;, &quot;j1g9p7c&quot;]</td><td>2</td></tr><tr><td>&quot;zteq79&quot;</td><td>&quot;monerosupport&quot;</td><td>[&quot;You should restore the 24 word Ledger mnemonic seed on the Ledger device. Thereafter, you can simply regenerate the Monero wallet:\n",
       "\n",
       "https://monero.stackexchange.com/questions/10598/how-do-i-restore-recreate-my-ledger-monero-wallet/&quot;]</td><td>[2]</td><td>[&quot;j1h8bqq&quot;]</td><td>1</td></tr><tr><td>&quot;zrn8il&quot;</td><td>&quot;monerosupport&quot;</td><td>[&quot;See: https://github.com/monero-project/monero-gui/issues/4087&quot;]</td><td>[2]</td><td>[&quot;j13xvmk&quot;]</td><td>1</td></tr><tr><td>&quot;zrfwts&quot;</td><td>&quot;monerosupport&quot;</td><td>[&quot;Please try again with GUI v0.18.1.2 (the most recent version). Your current version is outdated.&quot;]</td><td>[2]</td><td>[&quot;j17qz72&quot;]</td><td>1</td></tr><tr><td>&hellip;</td><td>&hellip;</td><td>&hellip;</td><td>&hellip;</td><td>&hellip;</td><td>&hellip;</td></tr><tr><td>&quot;7bj9ib&quot;</td><td>&quot;monerosupport&quot;</td><td>[&quot;No, you need the phrase or the file and then the password.&quot;]</td><td>[2]</td><td>[&quot;dpihzhe&quot;]</td><td>1</td></tr><tr><td>&quot;7b129e&quot;</td><td>&quot;monerosupport&quot;</td><td>[&quot;You should just be able to buy Monero from fiat on Kraken.&quot;, &quot;You can do it, I have done this several times. Basically you realize that fees are high. So you just decide for yourself if it´s worth it. &quot;]</td><td>[2, 2]</td><td>[&quot;dphuq18&quot;, &quot;dpsckvz&quot;]</td><td>2</td></tr><tr><td>&quot;78y3h1&quot;</td><td>&quot;monerosupport&quot;</td><td>[&quot;Are you using the CLI tools? If so, can you try v0.11.1.0?\n",
       "\n",
       "https://getmonero.org/downloads/&quot;]</td><td>[2]</td><td>[&quot;doxlcg4&quot;]</td><td>1</td></tr><tr><td>&quot;78fobv&quot;</td><td>&quot;monerosupport&quot;</td><td>[&quot;Try importing your wallet into the GUI. \n",
       "\n",
       "1. Download the GUI from here -&amp;gt; https://getmonero.org/downloads/\n",
       "\n",
       "2. Follow this guide: https://monero.stackexchange.com/questions/3775/how-to-restore-a-monero-wallet-from-private-keys\n",
       "\n",
       "3. If you want quick access to your funds, use a remote node -&amp;gt; https://moneroworld.com/#nodes\n",
       "\n",
       "The GUI has an option to &quot;sweep&quot; / send your whole balance.&quot;]</td><td>[2]</td><td>[&quot;doteius&quot;]</td><td>1</td></tr><tr><td>&quot;77h5in&quot;</td><td>&quot;monerosupport&quot;</td><td>[&quot;u mad dude? its about 20gb . FORGET IT &quot;]</td><td>[2]</td><td>[&quot;domyg74&quot;]</td><td>1</td></tr><tr><td>&quot;74e669&quot;</td><td>&quot;monerosupport&quot;</td><td>[&quot;To anyone looking to solve this problem I was able to figure it out. The solution is to change the Blockchain location to the drive you want. You can import the blockchain from another file or re-download it if you want. &quot;]</td><td>[2]</td><td>[&quot;dnxlj3s&quot;]</td><td>1</td></tr><tr><td>&quot;73yif4&quot;</td><td>&quot;monerosupport&quot;</td><td>[&quot;Are you using a local node or a remote node?&quot;]</td><td>[2]</td><td>[&quot;dnv1tj4&quot;]</td><td>1</td></tr><tr><td>&quot;6yuh0l&quot;</td><td>&quot;monerosupport&quot;</td><td>[&quot;/u/FearTheCoin can you please ask a question on StackExchange? The community is still growing here, and this is a good question.\n",
       "\n",
       "**Edit: [I have posted it here](https://monero.stackexchange.com/questions/6068/how-do-i-export-my-transaction-history-from-wallet-cli-in-a-usable-format-txt).** See the response there, which answers your question.&quot;]</td><td>[2]</td><td>[&quot;dn3e36a&quot;]</td><td>1</td></tr><tr><td>&quot;6wr31k&quot;</td><td>&quot;monerosupport&quot;</td><td>[&quot;Update: https://www.reddit.com/r/Monero/comments/6wr5d9/question_error_couldnt_start_mining/#\n",
       "\n",
       "Client is now continuing to sync. Apparently it was inaccurately reporting 100% beforehand and after slapping it up a bit -- I mean restarting the client it is now working. &quot;]</td><td>[3]</td><td>[&quot;dmaicxi&quot;]</td><td>1</td></tr><tr><td>&quot;6wk0hq&quot;</td><td>&quot;monerosupport&quot;</td><td>[&quot;The likeliest cause is a typo when importing with the mnemonic seed. Try importing the mnemonic into the wallet again, carefully checking each letter. Include the spaces between words, Idk if the software checks for spaces but better to be safe. &quot;]</td><td>[2]</td><td>[&quot;dm8kqz6&quot;]</td><td>1</td></tr><tr><td>&quot;6wfbf4&quot;</td><td>&quot;monerosupport&quot;</td><td>[&quot;Hi, looks like you were probably scammed. Freewallet is listed as an untrusted service by the community and developers. There&#x27;s a high chance you will not see your money again. I also recommend reporting this app on the Google Play Store because it&#x27;s a known scam.\n",
       "\n",
       "I recommend you to always do a background check / research for anything outside of official releases. If it doesn&#x27;t come from getmonero.org or the /r/Monero sidebar (which lists freewallet as a scam), then it&#x27;s probably not good.\n",
       "\n",
       "Please, read the [newcomer&#x27;s guide to Monero](https://www.reddit.com/r/Monero/comments/5zgail/rmonero_newcomers_please_read_everything_you_need/). It has all the information you needed and it also lists the scams. This could&#x27;ve been avoided with due diligence.&quot;]</td><td>[3]</td><td>[&quot;dm8dlw9&quot;]</td><td>1</td></tr><tr><td>&quot;6owsgj&quot;</td><td>&quot;monerosupport&quot;</td><td>[&quot;You may need to refresh the wallet somehow. You can try restoring your wallet from seeds and just save the wallet to a new file. &quot;]</td><td>[2]</td><td>[&quot;dksu3ux&quot;]</td><td>1</td></tr></tbody></table></div>"
      ],
      "text/plain": [
       "shape: (2_378, 6)\n",
       "┌─────────┬───────────────┬──────────────────────────────┬───────────┬─────────────┬───────────────┐\n",
       "│ link_id ┆ subreddit     ┆ body                         ┆ score     ┆ id          ┆ comment_count │\n",
       "│ ---     ┆ ---           ┆ ---                          ┆ ---       ┆ ---         ┆ ---           │\n",
       "│ str     ┆ str           ┆ list[str]                    ┆ list[i64] ┆ list[str]   ┆ u32           │\n",
       "╞═════════╪═══════════════╪══════════════════════════════╪═══════════╪═════════════╪═══════════════╡\n",
       "│ zzqd0g  ┆ monerosupport ┆ [\"When did you start         ┆ [2]       ┆ [\"j2dhhyn\"] ┆ 1             │\n",
       "│         ┆               ┆ synchronizi…                 ┆           ┆             ┆               │\n",
       "│ zyj90p  ┆ monerosupport ┆ [\"It depends if you are      ┆ [2]       ┆ [\"j26cwj9\"] ┆ 1             │\n",
       "│         ┆               ┆ going to…                    ┆           ┆             ┆               │\n",
       "│ zwqn10  ┆ monerosupport ┆ [\"Does it allow you to edit  ┆ [2]       ┆ [\"j1xr3b5\"] ┆ 1             │\n",
       "│         ┆               ┆ and …                        ┆           ┆             ┆               │\n",
       "│ zvxt3p  ┆ monerosupport ┆ [\"IRS and other government   ┆ [3, 2]    ┆ [\"j1sjpex\", ┆ 2             │\n",
       "│         ┆               ┆ organ…                       ┆           ┆ \"j1uikzg\"]  ┆               │\n",
       "│ …       ┆ …             ┆ …                            ┆ …         ┆ …           ┆ …             │\n",
       "│ 6wr31k  ┆ monerosupport ┆ [\"Update:                    ┆ [3]       ┆ [\"dmaicxi\"] ┆ 1             │\n",
       "│         ┆               ┆ https://www.reddit.com…      ┆           ┆             ┆               │\n",
       "│ 6wk0hq  ┆ monerosupport ┆ [\"The likeliest cause is a   ┆ [2]       ┆ [\"dm8kqz6\"] ┆ 1             │\n",
       "│         ┆               ┆ typo …                       ┆           ┆             ┆               │\n",
       "│ 6wfbf4  ┆ monerosupport ┆ [\"Hi, looks like you were    ┆ [3]       ┆ [\"dm8dlw9\"] ┆ 1             │\n",
       "│         ┆               ┆ probab…                      ┆           ┆             ┆               │\n",
       "│ 6owsgj  ┆ monerosupport ┆ [\"You may need to refresh    ┆ [2]       ┆ [\"dksu3ux\"] ┆ 1             │\n",
       "│         ┆               ┆ the wa…                      ┆           ┆             ┆               │\n",
       "└─────────┴───────────────┴──────────────────────────────┴───────────┴─────────────┴───────────────┘"
      ]
     },
     "execution_count": 44,
     "metadata": {},
     "output_type": "execute_result"
    }
   ],
   "source": [
    "c_df.collect()"
   ]
  },
  {
   "cell_type": "code",
   "execution_count": 51,
   "metadata": {},
   "outputs": [],
   "source": [
    "j_df = p_df.join(\n",
    "    c_df, \n",
    "    left_on='id', \n",
    "    right_on='link_id', \n",
    "    how='inner', \n",
    "    suffix='_comment'\n",
    ").explode('body', 'score_comment', 'id_comment')"
   ]
  },
  {
   "cell_type": "code",
   "execution_count": 55,
   "metadata": {},
   "outputs": [],
   "source": [
    "o_df = j_df.collect()"
   ]
  },
  {
   "cell_type": "code",
   "execution_count": 56,
   "metadata": {},
   "outputs": [],
   "source": [
    "with open('data/training_ds', mode=\"ab\") as f:\n",
    "    o_df.write_ndjson(f)"
   ]
  }
 ],
 "metadata": {
  "kernelspec": {
   "display_name": "venv",
   "language": "python",
   "name": "python3"
  },
  "language_info": {
   "codemirror_mode": {
    "name": "ipython",
    "version": 3
   },
   "file_extension": ".py",
   "mimetype": "text/x-python",
   "name": "python",
   "nbconvert_exporter": "python",
   "pygments_lexer": "ipython3",
   "version": "3.8.10"
  },
  "orig_nbformat": 4
 },
 "nbformat": 4,
 "nbformat_minor": 2
}
